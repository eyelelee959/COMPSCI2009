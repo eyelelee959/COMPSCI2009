{
 "cells": [
  {
   "cell_type": "markdown",
   "id": "a9c7ec8e",
   "metadata": {},
   "source": [
    "# W8 PIT Practical "
   ]
  },
  {
   "cell_type": "markdown",
   "id": "be5bfaf6",
   "metadata": {},
   "source": [
    "# Fibonacci number\n",
    "---"
   ]
  },
  {
   "cell_type": "markdown",
   "id": "e82de09a",
   "metadata": {},
   "source": [
    "The Fibonacci numbers are `0, 1, 1, 2, 3, 5, 8, 13, 21...`. \n",
    "\n",
    "The formula is `Fn = Fn-1 + Fn-2`, with `F0=0` and `F1=1`. \n",
    "\n",
    "For example,\n",
    "- `F2 = F1 + F0 = 1 + 0 = 1`\n",
    "-  `F3 = F2 + F1 = 1 + 1 = 2`\n",
    "-  `F4 = F3 + F2 = 2 + 1 = 3`\n",
    "- `F5 = F4 + F3 = 3 + 2 = 5`\n",
    "- ..."
   ]
  },
  {
   "cell_type": "markdown",
   "id": "7a0d3304",
   "metadata": {},
   "source": [
    "## Task 1 (25%)\n",
    "Please complete the function `fibo` below that displays Fibonacci number using a **non-recursive** approach"
   ]
  },
  {
   "cell_type": "code",
   "execution_count": 1,
   "id": "02407c38",
   "metadata": {
    "tags": []
   },
   "outputs": [
    {
     "name": "stdout",
     "output_type": "stream",
     "text": [
      "f1 = 1\n",
      "f2 = 1\n",
      "f3 = 2\n",
      "f4 = 3\n",
      "f5 = 5\n"
     ]
    }
   ],
   "source": [
    "def fibo(n):\n",
    "    i = 1\n",
    "    f0 = 0\n",
    "    f1 = 1\n",
    "    fi = 1\n",
    "    while i < n+1:\n",
    "        print(f'f{i} = {fi}')    \n",
    "        # INPUT YOUR CODE BELOW\n",
    "        # approx 3 lines\n",
    "        ...\n",
    "        fi = f1 + f0\n",
    "        f0 = f1\n",
    "        f1 = fi\n",
    "        i += 1\n",
    "        \n",
    "# =======================\n",
    "# EXAMPLE TESTING CASES\n",
    "fibo(5)\n",
    "# output:\n",
    "# f1 = 1\n",
    "# f2 = 1\n",
    "# f3 = 2\n",
    "# f4 = 3\n",
    "# f5 = 5"
   ]
  },
  {
   "cell_type": "markdown",
   "id": "a76aa0a2",
   "metadata": {},
   "source": [
    "## Task 2 (25%)\n",
    "Please display Fibonacci number using a recursive approach"
   ]
  },
  {
   "cell_type": "code",
   "execution_count": 2,
   "id": "39ed8494",
   "metadata": {
    "tags": []
   },
   "outputs": [
    {
     "name": "stdout",
     "output_type": "stream",
     "text": [
      "f10 is: 55\n",
      "f20 is: 6765\n"
     ]
    }
   ],
   "source": [
    "def fibo_rec(n):\n",
    "    # INPUT YOUR CODE BELOW\n",
    "    # approx 4 lines\n",
    "    ...\n",
    "    # base case     \n",
    "    if n==0: \n",
    "        return 0     \n",
    "    if n==1: \n",
    "        return 1     \n",
    "    \n",
    "    # recursive case     \n",
    "    return fibo_rec(n-2)+fibo_rec(n-1) \n",
    "    \n",
    "# =======================\n",
    "# EXAMPLE TESTING CASES\n",
    "# DO NOT CHANGE\n",
    "n = 10\n",
    "print(f'f{n} is: {fibo_rec(n)}') # f10 is: 55\n",
    "\n",
    "n = 20\n",
    "print(f'f{n} is: {fibo_rec(n)}') # f20 is: 6765"
   ]
  },
  {
   "cell_type": "markdown",
   "id": "64487b88",
   "metadata": {},
   "source": [
    "## Task 3 (25%)\n",
    "Please implement the quick sort algorithm that \n",
    "1. sort the numbers in **ascending** order and\n",
    "1. uses the **first** element as the pivot."
   ]
  },
  {
   "cell_type": "code",
   "execution_count": 4,
   "id": "9d8f1673",
   "metadata": {
    "tags": []
   },
   "outputs": [
    {
     "name": "stdout",
     "output_type": "stream",
     "text": [
      "[12, 21, 23, 43]\n"
     ]
    }
   ],
   "source": [
    "import random\n",
    "\n",
    "def qsort(arr):\n",
    "    # YOUR CODE BELOW\n",
    "    # ~ 2 lines, the base case    \n",
    "    ...\n",
    "    if(len(arr)==0):         \n",
    "        return arr\n",
    "    else:\n",
    "        # Read two lines below carefully, you will implement the partition function\n",
    "        lesser, greater = partition(arr)\n",
    "        return qsort(lesser) + [arr[0]] + qsort(greater) \n",
    "    \n",
    "def partition(arr):\n",
    "    lesser = []\n",
    "    greater = []\n",
    "    pivot = arr[0]\n",
    "    # YOUR CODE BELOW\n",
    "    # ~ 5 lines, create two lists: lesser and greater\n",
    "    ...\n",
    "    for index in range(len(arr)):         \n",
    "        if(arr[index]<pivot):             \n",
    "            lesser.append(arr[index])        \n",
    "        elif(arr[index]>pivot):             \n",
    "            greater.append(arr[index])\n",
    "    return lesser, greater\n",
    "    \n",
    "# =======================\n",
    "# EXAMPLE TESTING CASES\n",
    "# DO NOT CHANGE\n",
    "A = [12, 23, 43, 21]\n",
    "arr = qsort(A)\n",
    "print(arr) #[12, 21, 23, 43]"
   ]
  },
  {
   "cell_type": "markdown",
   "id": "42ab8b9e",
   "metadata": {},
   "source": [
    "## Exercise 4 (25%)\n",
    "Please implement the quick sort algorithm that \n",
    "1. sort the numbers in **descending** order and\n",
    "1. uses **random** element as the pivot.\n",
    "\n",
    "For simplicity, you can assume all number in the array are unique."
   ]
  },
  {
   "cell_type": "code",
   "execution_count": 6,
   "id": "3523a1f9",
   "metadata": {
    "tags": []
   },
   "outputs": [
    {
     "name": "stdout",
     "output_type": "stream",
     "text": [
      "[23, 16, 12, 9, 5]\n"
     ]
    }
   ],
   "source": [
    "import random\n",
    "\n",
    "def qsort_dec(arr):\n",
    "    # YOUR CODE BELOW\n",
    "    # ~5 LINES\n",
    "    # Copy and modify the qsort() function above\n",
    "    if(len(arr)==0):\n",
    "        return arr\n",
    "    else:\n",
    "        lesser, greater, pivot = partition_dec(arr)\n",
    "        return qsort_dec(greater) + [pivot] + qsort_dec(lesser)\n",
    "    \n",
    "def partition_dec(arr):\n",
    "    lesser = []\n",
    "    greater = []\n",
    "    # YOUR CODE BELOW    \n",
    "    # ~ 6 lines, copy and update from Task 3\n",
    "    pivot = random.choice(arr)\n",
    "    ...\n",
    "    for index in range(len(arr)):         \n",
    "        if(arr[index]<pivot):             \n",
    "            lesser.append(arr[index])        \n",
    "        elif(arr[index]>pivot):             \n",
    "            greater.append(arr[index])\n",
    "    \n",
    "    return lesser, greater, pivot \n",
    "\n",
    "# =======================\n",
    "# EXAMPLE TESTING CASES\n",
    "# DO NOT CHANGE\n",
    "A = [5, 9, 12, 16, 23]\n",
    "arr = qsort_dec(A)\n",
    "print(arr) # [23, 16, 12, 9, 5]"
   ]
  },
  {
   "cell_type": "code",
   "execution_count": null,
   "id": "48e4bd3d",
   "metadata": {},
   "outputs": [],
   "source": []
  }
 ],
 "metadata": {
  "kernelspec": {
   "display_name": "Python 3 (ipykernel)",
   "language": "python",
   "name": "python3"
  },
  "language_info": {
   "codemirror_mode": {
    "name": "ipython",
    "version": 3
   },
   "file_extension": ".py",
   "mimetype": "text/x-python",
   "name": "python",
   "nbconvert_exporter": "python",
   "pygments_lexer": "ipython3",
   "version": "3.9.13"
  },
  "otter": {
   "tests": {
    "Task 1": {
     "name": "Task 1",
     "points": 1,
     "suites": [
      {
       "cases": [
        {
         "code": ">>> fibo(10)\nf1 = 1\nf2 = 1\nf3 = 2\nf4 = 3\nf5 = 5\nf6 = 8\nf7 = 13\nf8 = 21\nf9 = 34\nf10 = 55\n",
         "failure_message": "Incorrect answer, try again!",
         "hidden": false,
         "locked": false,
         "success_message": "Good job!"
        }
       ],
       "scored": true,
       "setup": "",
       "teardown": "",
       "type": "doctest"
      }
     ]
    },
    "Task 2": {
     "name": "Task 2",
     "points": 1,
     "suites": [
      {
       "cases": [
        {
         "code": ">>> fibo_rec(5) == 5\nTrue",
         "failure_message": "Incorrect answer, try again!",
         "hidden": false,
         "locked": false,
         "success_message": "Good job!"
        },
        {
         "code": ">>> fibo_rec(10) == 55\nTrue",
         "failure_message": "Incorrect answer, try again!",
         "hidden": false,
         "locked": false,
         "success_message": "Good job!"
        }
       ],
       "scored": true,
       "setup": "",
       "teardown": "",
       "type": "doctest"
      }
     ]
    },
    "Task 3": {
     "name": "Task 3",
     "points": 1,
     "suites": [
      {
       "cases": [
        {
         "code": ">>> a = qsort([5, 3, 2, -5])\n>>> a[3] ==5 \nTrue",
         "failure_message": "Incorrect answer, try again!",
         "hidden": false,
         "locked": false,
         "success_message": "Good job!"
        }
       ],
       "scored": true,
       "setup": "",
       "teardown": "",
       "type": "doctest"
      }
     ]
    },
    "Task 4": {
     "name": "Task 4",
     "points": 1,
     "suites": [
      {
       "cases": [
        {
         "code": ">>> qsort_dec([98, 23, 43, 21, 53, 29])\n[98, 53, 43, 29, 23, 21]",
         "failure_message": "Incorrect answer, try again!",
         "hidden": false,
         "locked": false,
         "success_message": "Good job!"
        }
       ],
       "scored": true,
       "setup": "",
       "teardown": "",
       "type": "doctest"
      }
     ]
    }
   }
  }
 },
 "nbformat": 4,
 "nbformat_minor": 5
}
