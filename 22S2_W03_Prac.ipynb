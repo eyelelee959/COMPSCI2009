{
 "cells": [
  {
   "cell_type": "markdown",
   "id": "477e8ee6",
   "metadata": {},
   "source": [
    "# W03 Prac - Hash"
   ]
  },
  {
   "cell_type": "markdown",
   "id": "60555ac6",
   "metadata": {},
   "source": [
    "# Exercise 1 - Hash Functions\n",
    "\n",
    "In this week's workshop, you have analysed different types of hash functions. Now, please implement and evaluate these hash functions. \n",
    "\n",
    "Please implement the following hash functions where `val` is the input and `n` is the size of the hash table. You can assume that the `val`  will be a lower-case string.\n",
    "1. `hash1(val, n)` : return '1' for all input\n",
    "1. `hash2(val, n)` : Use the length of the string as the index\n",
    "1. `hash3(val, n)` : Use the first character as the index\n",
    "1. `hash4(val, n)` : Map every letter to a prime number, e.g. a = 1, b = 2, c = 3, d = 5, etc. For a string, the hash function is the sum of all the corresponding numbers modulo the size of the hash. For example, if the hash table is 10, and the string is 'bad', the index is `(3+2+7)%10 = 2`. Note that you should ignore the characters that is not in the prime number mapping below."
   ]
  },
  {
   "cell_type": "code",
   "execution_count": 21,
   "id": "a2f6edc0",
   "metadata": {
    "scrolled": true,
    "tags": []
   },
   "outputs": [
    {
     "name": "stdout",
     "output_type": "stream",
     "text": [
      "1\n",
      "8\n",
      "0\n",
      "6\n"
     ]
    }
   ],
   "source": [
    "def hash1(val, n):\n",
    "    return 1\n",
    "\n",
    "def hash2(val, n):\n",
    "    return len(val)\n",
    "\n",
    "def hash3(val, n):\n",
    "    d = {'a': 0, 'b': 1, 'c': 2, 'd': 3, 'e': 4, 'f': 5, 'g': 6, 'h': 7, 'i': 8, 'j': 9, 'k': 10, 'l': 11, 'm': 12, 'n': 13, 'o': 14, 'p': 15, 'q': 16, 'r': 17, 's': 18, 't': 19, 'u': 20, 'v': 21, 'w': 22, 'x': 23, 'y': 24, 'z': 25}\n",
    "    return d[val[0]] \n",
    "    \n",
    "def hash4(val, n):\n",
    "    d = {'a': 1, 'b': 2, 'c': 3, 'd': 5, 'e': 7, 'f': 11, 'g': 13, 'h': 17, 'i': 19, 'j': 23, 'k': 29, 'l': 31, 'm': 37, 'n': 41, 'o': 43, 'p': 47, 'q': 53, 'r': 59, 's': 61, 't': 67, 'u': 71, 'v': 73, 'w': 79, 'x': 83, 'y': 89, 'z': 97}    \n",
    "    sum_ = 0     \n",
    "    for char in val:         \n",
    "        if char in d.keys():             \n",
    "            sum_ +=d[char]     \n",
    "    return sum_%n\n",
    "    \n",
    "# TEST CASES BELOW\n",
    "print(hash1('adelaide', 10)) # 1\n",
    "print(hash2('adelaide', 10)) # 8\n",
    "print(hash3('adelaide', 10)) # 0\n",
    "print(hash4('adelaide', 10)) # 6        "
   ]
  },
  {
   "cell_type": "markdown",
   "id": "f5f833c6",
   "metadata": {},
   "source": [
    "# Exercise 2 - Hash Table "
   ]
  },
  {
   "cell_type": "markdown",
   "id": "488dfd21",
   "metadata": {},
   "source": [
    "In this exercise, you will implement your own HashTable class. You will use chaining when collisions happen. The functions to be completed are\n",
    "- `add_element(val)` function inserts an element into the hash table. Your code should first calculate the hash number of the input value `val`, then insert it into the table.\n",
    "- `search(val)` function search for the input value `val` in the hash table. If the value is already inside the table, it should return `True`, otherwise `False`.\n",
    "\n",
    "The provided test code first reads a list of books from a file `books.txt`, and then constructs a HashTable containing all books. You can think of it as a book management system in a library that keeps track of weather a book is inside the library."
   ]
  },
  {
   "cell_type": "code",
   "execution_count": 53,
   "id": "2f6b4845",
   "metadata": {
    "tags": []
   },
   "outputs": [
    {
     "name": "stdout",
     "output_type": "stream",
     "text": [
      "Number of collision is 90\n",
      "True\n",
      "True\n",
      "False\n",
      "False\n",
      "Number of collision is 34\n"
     ]
    }
   ],
   "source": [
    "class HashTable:\n",
    "    def __init__(self, size):\n",
    "        self.size = size\n",
    "        self.table = [[] for _ in range(size)]\n",
    "        self.collision = 0\n",
    "\n",
    "    #'''add an element into the hash table'''\n",
    "    # insert the book name into the hash table, and \n",
    "    # if collision happens, increase the value by 1\n",
    "    # ~ 4 lines of code\n",
    "    # INSERT YOUR CODE BELOW\n",
    "    def add_element(self, val):\n",
    "        hash_value = self.hash4_b(val)\n",
    "        if len(self.table[hash_value]) > 0:\n",
    "            self.collision += 1\n",
    "        self.table[hash_value].append(val)\n",
    "   \n",
    "    #'''search if the val is already in the hash table'''\n",
    "    # ~ 5 lines of code\n",
    "    # INSERT YOUR CODE BELOW\n",
    "    def search(self, val):\n",
    "        hash_value = self.hash4_b(val)\n",
    "        if val in self.table[hash_value]:\n",
    "            return True\n",
    "        return False \n",
    "    \n",
    "    # Copy your hash4 function to here\n",
    "    # Note that you will need to handle exception \n",
    "    # i.e if the character does not have a primary mapping, map it to 0\n",
    "    # ~8 lines\n",
    "    # INSERT YOUR CODE BELOW   \n",
    "    def hash4_b(self, val):\n",
    "        d = {'a': 1, 'b': 2, 'c': 3, 'd': 5, 'e': 7, 'f': 11, 'g': 13, 'h': 17, 'i': 19, 'j': 23, 'k': 29, 'l': 31, 'm': 37, 'n': 41, 'o': 43, 'p': 47, 'q': 53, 'r': 59, 's': 61, 't': 67, 'u': 71, 'v': 73, 'w': 79, 'x': 83, 'y': 89, 'z': 97}\n",
    "        sum_ = 0\n",
    "        for char in val:\n",
    "            if char in d.keys():\n",
    "                sum_ += d[char]\n",
    "            else:\n",
    "                sum_ += 0\n",
    "        return sum_ % self.size\n",
    "\n",
    "# ----------------\n",
    "# TEST CODE BELOW\n",
    "with open('books.txt', 'r') as f:\n",
    "    htable = HashTable(10)\n",
    "    for line in f:\n",
    "        line = line.strip()\n",
    "        htable.add_element(line)\n",
    "print(f'Number of collision is {htable.collision}') # should be 90\n",
    "print(htable.search('a clockwork orange'))          # should return True\n",
    "print(htable.search('1984'))                        # should return True\n",
    "print(htable.search('game of throne'))              # should return False\n",
    "print(htable.search('foundation'))                  # should return False\n",
    "\n",
    "with open('books.txt', 'r') as f:\n",
    "    htable = HashTable(100)\n",
    "    for line in f:\n",
    "        line = line.strip()\n",
    "        htable.add_element(line)\n",
    "print(f'Number of collision is {htable.collision}') # should be 34"
   ]
  },
  {
   "cell_type": "markdown",
   "id": "cdff7024",
   "metadata": {},
   "source": [
    "# Exercise 3 - Duplicate\n",
    "\n",
    "Given an integer array nums, return true if any value appears at least twice in the array, and return false if every element is distinct.\n",
    "\n",
    "### Example 1:\n",
    "\n",
    "Input: nums = `[1,2,3,1]` <br>\n",
    "Output: true\n",
    "### Example 2:\n",
    "\n",
    "Input: nums = `[1,2,3,4]` <br>\n",
    "Output: false\n",
    "### Example 3:\n",
    "\n",
    "Input: nums = `[1,1,1,3,3,4,3,2,4,2]` <br>\n",
    "Output: true\n",
    "\n"
   ]
  },
  {
   "cell_type": "code",
   "execution_count": 16,
   "id": "96e23cc1",
   "metadata": {
    "tags": []
   },
   "outputs": [
    {
     "name": "stdout",
     "output_type": "stream",
     "text": [
      "True\n",
      "False\n",
      "True\n"
     ]
    }
   ],
   "source": [
    "def check_dup(li):\n",
    "    # Enter your code below\n",
    "    # ~ 7 lines\n",
    "    for i in range(len(li)):\n",
    "        j=i+1\n",
    "        while j < len(li):\n",
    "            if li[i]==li[j]: #if found the same value\n",
    "                return True\n",
    "            j+=1\n",
    "        return False #no same value\n",
    "\n",
    "# ---------------\n",
    "# TEST CASE BELOW\n",
    "\n",
    "b = check_dup([1, 3, 1, 2])\n",
    "print(b) # True\n",
    "b = check_dup([1, 2, 3, 4])\n",
    "print(b) # False\n",
    "b = check_dup([1,1,1,3,3,4,3,2,4,2])\n",
    "print(b) # True"
   ]
  },
  {
   "cell_type": "markdown",
   "id": "239b18ea",
   "metadata": {},
   "source": [
    "# Exercise 4 - Two Sum"
   ]
  },
  {
   "cell_type": "markdown",
   "id": "feba3cd9",
   "metadata": {},
   "source": [
    "Given an array of **integers** nums and an **integer** target, return indices of the two numbers such that they add up to target. \n",
    "\n",
    "You may assume that each input would have **exactly one solution**, and you may not use the same element twice. You can return the answer in any order.\n",
    "\n",
    "**Note:** the most intuitive solution is $O(n^2)$ that checks every pair of the numbers. However, you can use hash table to solve the question in linear time! You will get full mark by using either of the approach. \n",
    "\n",
    "### Example 1:\n",
    "\n",
    "Input: nums = `[2,7,11,15]`, target = `9` <br>\n",
    "Output: `[0,1]` <br>\n",
    "Explanation: Because `nums[0] + nums[1] == 9`, we return `[0, 1]`.\n",
    "\n",
    "### Example 2:\n",
    "\n",
    "Input: nums = `[3,2,4]`, target = `6` <br>\n",
    "Output: `[1,2]`\n",
    "\n",
    "### Example 3:\n",
    "\n",
    "Input: nums = `[3,3]`, target = `6` <br>\n",
    "Output: `[0,1]`\n"
   ]
  },
  {
   "cell_type": "code",
   "execution_count": 19,
   "id": "b94a8afe",
   "metadata": {
    "tags": []
   },
   "outputs": [
    {
     "name": "stdout",
     "output_type": "stream",
     "text": [
      "(3, 1)\n",
      "(2, 1)\n",
      "None\n"
     ]
    }
   ],
   "source": [
    "def two_sum(li, target):\n",
    "    # If using dictionary, ~ 9 lines\n",
    "    # INSERT YOUR CODE BELOW\n",
    "    vals = {} # dictionary to store indices of numbers\n",
    "\n",
    "    for i in range(len(li)):\n",
    "        # if target - li[i] exists in vals then match found\n",
    "        # else storing the index of current value\n",
    "        if(target - li[i] not in vals):\n",
    "            vals[li[i]] = i\n",
    "        else:\n",
    "            # returning index of the two numbers when match found\n",
    "            return (i, vals[target-li[i]])\n",
    "\n",
    "    # returning None if no match found\n",
    "    return None\n",
    "# ---------------            \n",
    "# TEST CASE BELOW\n",
    "ans = two_sum([2, 7, 11, 15], 22)\n",
    "print(ans) #(3, 1)\n",
    "ans = two_sum([2, 7, 11, 15], 18)\n",
    "print(ans) #(2, 1)\n",
    "ans = two_sum([2, 7, 11, 15], 10)\n",
    "print(ans) #None"
   ]
  }
 ],
 "metadata": {
  "kernelspec": {
   "display_name": "Python 3 (ipykernel)",
   "language": "python",
   "name": "python3"
  },
  "language_info": {
   "codemirror_mode": {
    "name": "ipython",
    "version": 3
   },
   "file_extension": ".py",
   "mimetype": "text/x-python",
   "name": "python",
   "nbconvert_exporter": "python",
   "pygments_lexer": "ipython3",
   "version": "3.9.13"
  },
  "otter": {
   "tests": {
    "Task1": {
     "name": "Task1",
     "points": 1,
     "suites": [
      {
       "cases": [
        {
         "code": ">>> hash1('apple', 10)\n1",
         "failure_message": "Incorrect answer, try again!",
         "hidden": false,
         "locked": false,
         "success_message": "Good job!"
        },
        {
         "code": ">>> hash2('apple', 10)\n5",
         "failure_message": "Incorrect answer, try again!",
         "hidden": false,
         "locked": false,
         "success_message": "Good job!"
        },
        {
         "code": ">>> hash3('apple', 10)\n0",
         "failure_message": "Incorrect answer, try again!",
         "hidden": false,
         "locked": false,
         "success_message": "Good job!"
        },
        {
         "code": ">>> hash4('apple', 10)\n3",
         "failure_message": "Incorrect answer, try again!",
         "hidden": false,
         "locked": false,
         "success_message": "Good job!"
        }
       ],
       "scored": true,
       "setup": "",
       "teardown": "",
       "type": "doctest"
      }
     ]
    },
    "Task3": {
     "name": "Task3",
     "points": 1,
     "suites": [
      {
       "cases": [
        {
         "code": ">>> check_dup([1, 2, 3, 4, 5])\nFalse",
         "failure_message": "Incorrect answer, try again!",
         "hidden": false,
         "locked": false,
         "success_message": "Good job!"
        },
        {
         "code": ">>> check_dup([2, 2, 3, 3, 5])\nTrue",
         "failure_message": "Incorrect answer, try again!",
         "hidden": false,
         "locked": false,
         "success_message": "Good job!"
        },
        {
         "code": ">>> check_dup([1])\nFalse",
         "failure_message": "Incorrect answer, try again!",
         "hidden": false,
         "locked": false,
         "success_message": "Good job!"
        }
       ],
       "scored": true,
       "setup": "",
       "teardown": "",
       "type": "doctest"
      }
     ]
    },
    "Task4": {
     "name": "Task4",
     "points": 1,
     "suites": [
      {
       "cases": [
        {
         "code": ">>> two_sum([-2, 1, 3, 8, 2], 0)\n(4, 0)",
         "failure_message": "Incorrect answer, try again!",
         "hidden": false,
         "locked": false,
         "success_message": "Good job!"
        },
        {
         "code": ">>> two_sum([1, 2, 3, 4, 5], 8)\n(4, 2)",
         "failure_message": "Incorrect answer, try again!",
         "hidden": false,
         "locked": false,
         "success_message": "Good job!"
        }
       ],
       "scored": true,
       "setup": "",
       "teardown": "",
       "type": "doctest"
      }
     ]
    }
   }
  }
 },
 "nbformat": 4,
 "nbformat_minor": 5
}
